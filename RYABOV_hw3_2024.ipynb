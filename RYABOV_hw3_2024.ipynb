{
  "nbformat": 4,
  "nbformat_minor": 0,
  "metadata": {
    "colab": {
      "provenance": []
    },
    "kernelspec": {
      "name": "python3",
      "display_name": "Python 3"
    },
    "language_info": {
      "name": "python"
    }
  },
  "cells": [
    {
      "cell_type": "markdown",
      "source": [
        "# Устанавливаем java и ChromHmm"
      ],
      "metadata": {
        "id": "vRciyzvPEDLD"
      }
    },
    {
      "cell_type": "code",
      "execution_count": null,
      "metadata": {
        "colab": {
          "base_uri": "https://localhost:8080/"
        },
        "id": "NxS1Mv5WquOV",
        "outputId": "9a4b40a5-b0c9-49fb-b1ee-c9410c9cd2e7"
      },
      "outputs": [
        {
          "output_type": "stream",
          "name": "stdout",
          "text": [
            "  % Total    % Received % Xferd  Average Speed   Time    Time     Time  Current\n",
            "                                 Dload  Upload   Total   Spent    Left  Speed\n",
            "\r  0     0    0     0    0     0      0      0 --:--:-- --:--:-- --:--:--     0\r100   520  100   520    0     0   2418      0 --:--:-- --:--:-- --:--:--  2429\n",
            "Update environment...\n",
            "Install Java...\n",
            "Install Jupyter java kernel...\n"
          ]
        }
      ],
      "source": [
        "!curl -O https://raw.githubusercontent.com/deepjavalibrary/d2l-java/master/tools/colab_build.sh && bash colab_build.sh"
      ]
    },
    {
      "cell_type": "code",
      "source": [
        "!java --list-modules | grep \"jdk.jshell\"\n"
      ],
      "metadata": {
        "colab": {
          "base_uri": "https://localhost:8080/"
        },
        "id": "_NrPS924rQFX",
        "outputId": "8cf60a2a-db59-44dc-e2c6-a13101428374"
      },
      "execution_count": null,
      "outputs": [
        {
          "output_type": "stream",
          "name": "stdout",
          "text": [
            "jdk.jshell@11.0.22\n"
          ]
        }
      ]
    },
    {
      "cell_type": "code",
      "source": [
        "! wget http://compbio.mit.edu/ChromHMM/ChromHMM.zip"
      ],
      "metadata": {
        "colab": {
          "base_uri": "https://localhost:8080/"
        },
        "id": "zCdYYvCJrpRt",
        "outputId": "565c0900-35f8-42dd-ffec-45c5e6272279"
      },
      "execution_count": null,
      "outputs": [
        {
          "output_type": "stream",
          "name": "stdout",
          "text": [
            "--2024-03-23 17:55:57--  http://compbio.mit.edu/ChromHMM/ChromHMM.zip\n",
            "Resolving compbio.mit.edu (compbio.mit.edu)... 128.52.131.233\n",
            "Connecting to compbio.mit.edu (compbio.mit.edu)|128.52.131.233|:80... connected.\n",
            "HTTP request sent, awaiting response... 301 Moved Permanently\n",
            "Location: https://compbio.mit.edu/ChromHMM/ChromHMM.zip [following]\n",
            "--2024-03-23 17:55:57--  https://compbio.mit.edu/ChromHMM/ChromHMM.zip\n",
            "Connecting to compbio.mit.edu (compbio.mit.edu)|128.52.131.233|:443... connected.\n",
            "HTTP request sent, awaiting response... 200 OK\n",
            "Length: 48974627 (47M) [application/zip]\n",
            "Saving to: ‘ChromHMM.zip’\n",
            "\n",
            "ChromHMM.zip        100%[===================>]  46.71M  46.6MB/s    in 1.0s    \n",
            "\n",
            "2024-03-23 17:55:59 (46.6 MB/s) - ‘ChromHMM.zip’ saved [48974627/48974627]\n",
            "\n"
          ]
        }
      ]
    },
    {
      "cell_type": "code",
      "source": [
        "!unzip /content/ChromHMM.zip"
      ],
      "metadata": {
        "id": "gF4uI2bvvEN2"
      },
      "execution_count": null,
      "outputs": []
    },
    {
      "cell_type": "markdown",
      "source": [
        "## Скачиваем файлы"
      ],
      "metadata": {
        "id": "k80uGrS5quq1"
      }
    },
    {
      "cell_type": "markdown",
      "source": [
        "Тк клеточная линия с предыдущего дз отсутствует, я взял другую: hsmmt\n"
      ],
      "metadata": {
        "id": "zbZOefNL7wej"
      }
    },
    {
      "cell_type": "code",
      "source": [
        "! wget http://hgdownload.cse.ucsc.edu/goldenPath/hg19/encodeDCC/wgEncodeBroadHistone/wgEncodeBroadHistoneHsmmtControlStdAlnRep1.bam -O ControlStdAlnRep1.bam\n",
        "! wget http://hgdownload.cse.ucsc.edu/goldenPath/hg19/encodeDCC/wgEncodeBroadHistone/wgEncodeBroadHistoneHsmmtH2azStdAlnRep1.bam -O H2azStdAlnRep1.bam\n",
        "! wget http://hgdownload.cse.ucsc.edu/goldenPath/hg19/encodeDCC/wgEncodeBroadHistone/wgEncodeBroadHistoneHsmmtH3k27acStdAlnRep1.bam -O H3k27acStdAlnRep1.bam\n",
        "! wget http://hgdownload.cse.ucsc.edu/goldenPath/hg19/encodeDCC/wgEncodeBroadHistone/wgEncodeBroadHistoneHsmmtH3k27me3AlnRep1.bam  -O H3k27me3AlnRep1.bam\n",
        "! wget http://hgdownload.cse.ucsc.edu/goldenPath/hg19/encodeDCC/wgEncodeBroadHistone/wgEncodeBroadHistoneHsmmtH3k36me3StdAlnRep1.bam  -O H3k36me3StdAlnRep1.bam\n",
        "! wget http://hgdownload.cse.ucsc.edu/goldenPath/hg19/encodeDCC/wgEncodeBroadHistone/wgEncodeBroadHistoneHsmmtH3k4me1StdAlnRep1.bam  -O H3k4me1StdAlnRep1.bam\n",
        "! wget http://hgdownload.cse.ucsc.edu/goldenPath/hg19/encodeDCC/wgEncodeBroadHistone/wgEncodeBroadHistoneHsmmtH3k4me2StdAlnRep1.bam   -O H3k4me2StdAlnRep1.bam\n",
        "! wget http://hgdownload.cse.ucsc.edu/goldenPath/hg19/encodeDCC/wgEncodeBroadHistone/wgEncodeBroadHistoneHsmmtH3k4me3StdAlnRep1.bam   -O H3k4me3StdAlnRep1.bam\n",
        "! wget http://hgdownload.cse.ucsc.edu/goldenPath/hg19/encodeDCC/wgEncodeBroadHistone/wgEncodeBroadHistoneHsmmtH3k79me2StdAlnRep1.bam   -O H3k79me2StdAlnRep1.bam\n",
        "! wget http://hgdownload.cse.ucsc.edu/goldenPath/hg19/encodeDCC/wgEncodeBroadHistone/wgEncodeBroadHistoneHsmmtH3k9acStdAlnRep1.bam     -O H3k9acStdAlnRep1.bam\n",
        "! wget http://hgdownload.cse.ucsc.edu/goldenPath/hg19/encodeDCC/wgEncodeBroadHistone/wgEncodeBroadHistoneHsmmtH4k20me1StdAlnRep1.bam    -O H4k20me1StdAlnRep1.bam\n"
      ],
      "metadata": {
        "id": "PSWbbv8wcFUY",
        "colab": {
          "base_uri": "https://localhost:8080/"
        },
        "outputId": "12b04d9a-e5c8-4d28-b778-8a36a180c85d"
      },
      "execution_count": 2,
      "outputs": [
        {
          "output_type": "stream",
          "name": "stdout",
          "text": [
            "--2024-03-24 13:41:54--  http://hgdownload.cse.ucsc.edu/goldenPath/hg19/encodeDCC/wgEncodeBroadHistone/wgEncodeBroadHistoneHsmmtControlStdAlnRep1.bam\n",
            "Resolving hgdownload.cse.ucsc.edu (hgdownload.cse.ucsc.edu)... 128.114.198.53\n",
            "Connecting to hgdownload.cse.ucsc.edu (hgdownload.cse.ucsc.edu)|128.114.198.53|:80... connected.\n",
            "HTTP request sent, awaiting response... 200 OK\n",
            "Length: 1716775431 (1.6G) [application/octet-stream]\n",
            "Saving to: ‘ControlStdAlnRep1.bam’\n",
            "\n",
            "ControlStdAlnRep1.b 100%[===================>]   1.60G  53.2MB/s    in 31s     \n",
            "\n",
            "2024-03-24 13:42:25 (52.8 MB/s) - ‘ControlStdAlnRep1.bam’ saved [1716775431/1716775431]\n",
            "\n",
            "--2024-03-24 13:42:25--  http://hgdownload.cse.ucsc.edu/goldenPath/hg19/encodeDCC/wgEncodeBroadHistone/wgEncodeBroadHistoneHsmmtH2azStdAlnRep1.bam\n",
            "Resolving hgdownload.cse.ucsc.edu (hgdownload.cse.ucsc.edu)... 128.114.198.53\n",
            "Connecting to hgdownload.cse.ucsc.edu (hgdownload.cse.ucsc.edu)|128.114.198.53|:80... connected.\n",
            "HTTP request sent, awaiting response... 200 OK\n",
            "Length: 602560882 (575M) [application/octet-stream]\n",
            "Saving to: ‘H2azStdAlnRep1.bam’\n",
            "\n",
            "H2azStdAlnRep1.bam  100%[===================>] 574.65M  46.3MB/s    in 12s     \n",
            "\n",
            "2024-03-24 13:42:38 (47.9 MB/s) - ‘H2azStdAlnRep1.bam’ saved [602560882/602560882]\n",
            "\n",
            "--2024-03-24 13:42:38--  http://hgdownload.cse.ucsc.edu/goldenPath/hg19/encodeDCC/wgEncodeBroadHistone/wgEncodeBroadHistoneHsmmtH3k27acStdAlnRep1.bam\n",
            "Resolving hgdownload.cse.ucsc.edu (hgdownload.cse.ucsc.edu)... 128.114.198.53\n",
            "Connecting to hgdownload.cse.ucsc.edu (hgdownload.cse.ucsc.edu)|128.114.198.53|:80... connected.\n",
            "HTTP request sent, awaiting response... 200 OK\n",
            "Length: 371443631 (354M) [application/octet-stream]\n",
            "Saving to: ‘H3k27acStdAlnRep1.bam’\n",
            "\n",
            "H3k27acStdAlnRep1.b 100%[===================>] 354.24M  54.1MB/s    in 6.9s    \n",
            "\n",
            "2024-03-24 13:42:45 (51.0 MB/s) - ‘H3k27acStdAlnRep1.bam’ saved [371443631/371443631]\n",
            "\n",
            "--2024-03-24 13:42:45--  http://hgdownload.cse.ucsc.edu/goldenPath/hg19/encodeDCC/wgEncodeBroadHistone/wgEncodeBroadHistoneHsmmtH3k27me3AlnRep1.bam\n",
            "Resolving hgdownload.cse.ucsc.edu (hgdownload.cse.ucsc.edu)... 128.114.198.53\n",
            "Connecting to hgdownload.cse.ucsc.edu (hgdownload.cse.ucsc.edu)|128.114.198.53|:80... connected.\n",
            "HTTP request sent, awaiting response... 200 OK\n",
            "Length: 2600605063 (2.4G) [application/octet-stream]\n",
            "Saving to: ‘H3k27me3AlnRep1.bam’\n",
            "\n",
            "H3k27me3AlnRep1.bam 100%[===================>]   2.42G  53.5MB/s    in 47s     \n",
            "\n",
            "2024-03-24 13:43:33 (52.3 MB/s) - ‘H3k27me3AlnRep1.bam’ saved [2600605063/2600605063]\n",
            "\n",
            "--2024-03-24 13:43:33--  http://hgdownload.cse.ucsc.edu/goldenPath/hg19/encodeDCC/wgEncodeBroadHistone/wgEncodeBroadHistoneHsmmtH3k36me3StdAlnRep1.bam\n",
            "Resolving hgdownload.cse.ucsc.edu (hgdownload.cse.ucsc.edu)... 128.114.198.53\n",
            "Connecting to hgdownload.cse.ucsc.edu (hgdownload.cse.ucsc.edu)|128.114.198.53|:80... connected.\n",
            "HTTP request sent, awaiting response... 200 OK\n",
            "Length: 514758975 (491M) [application/octet-stream]\n",
            "Saving to: ‘H3k36me3StdAlnRep1.bam’\n",
            "\n",
            "H3k36me3StdAlnRep1. 100%[===================>] 490.91M  54.0MB/s    in 9.5s    \n",
            "\n",
            "2024-03-24 13:43:43 (51.8 MB/s) - ‘H3k36me3StdAlnRep1.bam’ saved [514758975/514758975]\n",
            "\n",
            "--2024-03-24 13:43:43--  http://hgdownload.cse.ucsc.edu/goldenPath/hg19/encodeDCC/wgEncodeBroadHistone/wgEncodeBroadHistoneHsmmtH3k4me1StdAlnRep1.bam\n",
            "Resolving hgdownload.cse.ucsc.edu (hgdownload.cse.ucsc.edu)... 128.114.198.53\n",
            "Connecting to hgdownload.cse.ucsc.edu (hgdownload.cse.ucsc.edu)|128.114.198.53|:80... connected.\n",
            "HTTP request sent, awaiting response... 200 OK\n",
            "Length: 523712800 (499M) [application/octet-stream]\n",
            "Saving to: ‘H3k4me1StdAlnRep1.bam’\n",
            "\n",
            "H3k4me1StdAlnRep1.b 100%[===================>] 499.45M  52.0MB/s    in 9.7s    \n",
            "\n",
            "2024-03-24 13:43:53 (51.6 MB/s) - ‘H3k4me1StdAlnRep1.bam’ saved [523712800/523712800]\n",
            "\n",
            "--2024-03-24 13:43:53--  http://hgdownload.cse.ucsc.edu/goldenPath/hg19/encodeDCC/wgEncodeBroadHistone/wgEncodeBroadHistoneHsmmtH3k4me2StdAlnRep1.bam\n",
            "Resolving hgdownload.cse.ucsc.edu (hgdownload.cse.ucsc.edu)... 128.114.198.53\n",
            "Connecting to hgdownload.cse.ucsc.edu (hgdownload.cse.ucsc.edu)|128.114.198.53|:80... connected.\n",
            "HTTP request sent, awaiting response... 200 OK\n",
            "Length: 601414710 (574M) [application/octet-stream]\n",
            "Saving to: ‘H3k4me2StdAlnRep1.bam’\n",
            "\n",
            "H3k4me2StdAlnRep1.b 100%[===================>] 573.55M  54.6MB/s    in 11s     \n",
            "\n",
            "2024-03-24 13:44:04 (52.7 MB/s) - ‘H3k4me2StdAlnRep1.bam’ saved [601414710/601414710]\n",
            "\n",
            "--2024-03-24 13:44:04--  http://hgdownload.cse.ucsc.edu/goldenPath/hg19/encodeDCC/wgEncodeBroadHistone/wgEncodeBroadHistoneHsmmtH3k4me3StdAlnRep1.bam\n",
            "Resolving hgdownload.cse.ucsc.edu (hgdownload.cse.ucsc.edu)... 128.114.198.53\n",
            "Connecting to hgdownload.cse.ucsc.edu (hgdownload.cse.ucsc.edu)|128.114.198.53|:80... connected.\n",
            "HTTP request sent, awaiting response... 200 OK\n",
            "Length: 350012137 (334M) [application/octet-stream]\n",
            "Saving to: ‘H3k4me3StdAlnRep1.bam’\n",
            "\n",
            "H3k4me3StdAlnRep1.b 100%[===================>] 333.80M  54.5MB/s    in 6.5s    \n",
            "\n",
            "2024-03-24 13:44:11 (51.2 MB/s) - ‘H3k4me3StdAlnRep1.bam’ saved [350012137/350012137]\n",
            "\n",
            "--2024-03-24 13:44:11--  http://hgdownload.cse.ucsc.edu/goldenPath/hg19/encodeDCC/wgEncodeBroadHistone/wgEncodeBroadHistoneHsmmtH3k79me2StdAlnRep1.bam\n",
            "Resolving hgdownload.cse.ucsc.edu (hgdownload.cse.ucsc.edu)... 128.114.198.53\n",
            "Connecting to hgdownload.cse.ucsc.edu (hgdownload.cse.ucsc.edu)|128.114.198.53|:80... connected.\n",
            "HTTP request sent, awaiting response... 200 OK\n",
            "Length: 1187039829 (1.1G) [application/octet-stream]\n",
            "Saving to: ‘H3k79me2StdAlnRep1.bam’\n",
            "\n",
            "H3k79me2StdAlnRep1. 100%[===================>]   1.11G  50.0MB/s    in 21s     \n",
            "\n",
            "2024-03-24 13:44:33 (52.9 MB/s) - ‘H3k79me2StdAlnRep1.bam’ saved [1187039829/1187039829]\n",
            "\n",
            "--2024-03-24 13:44:33--  http://hgdownload.cse.ucsc.edu/goldenPath/hg19/encodeDCC/wgEncodeBroadHistone/wgEncodeBroadHistoneHsmmtH3k9acStdAlnRep1.bam\n",
            "Resolving hgdownload.cse.ucsc.edu (hgdownload.cse.ucsc.edu)... 128.114.198.53\n",
            "Connecting to hgdownload.cse.ucsc.edu (hgdownload.cse.ucsc.edu)|128.114.198.53|:80... connected.\n",
            "HTTP request sent, awaiting response... 200 OK\n",
            "Length: 516147377 (492M) [application/octet-stream]\n",
            "Saving to: ‘H3k9acStdAlnRep1.bam’\n",
            "\n",
            "H3k9acStdAlnRep1.ba 100%[===================>] 492.24M  54.5MB/s    in 9.4s    \n",
            "\n",
            "2024-03-24 13:44:42 (52.2 MB/s) - ‘H3k9acStdAlnRep1.bam’ saved [516147377/516147377]\n",
            "\n",
            "--2024-03-24 13:44:43--  http://hgdownload.cse.ucsc.edu/goldenPath/hg19/encodeDCC/wgEncodeBroadHistone/wgEncodeBroadHistoneHsmmtH4k20me1StdAlnRep1.bam\n",
            "Resolving hgdownload.cse.ucsc.edu (hgdownload.cse.ucsc.edu)... 128.114.198.53\n",
            "Connecting to hgdownload.cse.ucsc.edu (hgdownload.cse.ucsc.edu)|128.114.198.53|:80... connected.\n",
            "HTTP request sent, awaiting response... 200 OK\n",
            "Length: 776692607 (741M) [application/octet-stream]\n",
            "Saving to: ‘H4k20me1StdAlnRep1.bam’\n",
            "\n",
            "H4k20me1StdAlnRep1. 100%[===================>] 740.71M  49.8MB/s    in 14s     \n",
            "\n",
            "2024-03-24 13:44:57 (51.9 MB/s) - ‘H4k20me1StdAlnRep1.bam’ saved [776692607/776692607]\n",
            "\n"
          ]
        }
      ]
    },
    {
      "cell_type": "markdown",
      "source": [
        "Cоздадим файл cellmarkfiletable.txt с указанием клеток с bam файлами."
      ],
      "metadata": {
        "id": "asjMJ26h79SY"
      }
    },
    {
      "cell_type": "code",
      "source": [
        "import os\n",
        "with open(f'cellmarkfiletable.txt', 'w') as the_file:\n",
        "  for file in os.listdir():\n",
        "    if \"Control\" not in file and file[-3:] == 'bam':\n",
        "      print(file)\n",
        "      the_file.write(f'HSMMt\\t{file[:-4]}\\t{file}\\tControlStdAlnRep1.bam\\n')"
      ],
      "metadata": {
        "id": "u9DPom_Yq-3C",
        "colab": {
          "base_uri": "https://localhost:8080/"
        },
        "outputId": "afc0eb8a-287c-42f4-dee3-2bd7543790e1"
      },
      "execution_count": 3,
      "outputs": [
        {
          "output_type": "stream",
          "name": "stdout",
          "text": [
            "H3k9acStdAlnRep1.bam\n",
            "H3k4me1StdAlnRep1.bam\n",
            "H2azStdAlnRep1.bam\n",
            "H4k20me1StdAlnRep1.bam\n",
            "H3k79me2StdAlnRep1.bam\n",
            "H3k27me3AlnRep1.bam\n",
            "H3k4me3StdAlnRep1.bam\n",
            "H3k27acStdAlnRep1.bam\n",
            "H3k4me2StdAlnRep1.bam\n",
            "H3k36me3StdAlnRep1.bam\n"
          ]
        }
      ]
    },
    {
      "cell_type": "markdown",
      "source": [
        "Запускаем ChromHMM с опцией BinarizeBam, чтобы конвертировать профили из ChIP-seq экспериментов (bam-файлы) в табличку из 0 и 1, т.е. чтобы сделать разбивку генома на условные интервалы (бины) длиной 200 п.о.\n",
        "Для 11 меток программа работает около 5 мин\n"
      ],
      "metadata": {
        "id": "WeoRL3rp728b"
      }
    },
    {
      "cell_type": "code",
      "source": [
        "!java -mx4000M -jar /content/ChromHMM/ChromHMM.jar BinarizeBam /content/ChromHMM/CHROMSIZES/hg19.txt /content/ cellmarkfiletable.txt   binarizedData"
      ],
      "metadata": {
        "colab": {
          "base_uri": "https://localhost:8080/"
        },
        "id": "GcVBvuQZfzb8",
        "outputId": "5b987b94-e8ba-4b0c-b425-6b930facd3fb"
      },
      "execution_count": null,
      "outputs": [
        {
          "output_type": "stream",
          "name": "stdout",
          "text": [
            "Writing to file binarizedData/HSMMt_chr1_binary.txt\n",
            "Writing to file binarizedData/HSMMt_chr2_binary.txt\n",
            "Writing to file binarizedData/HSMMt_chr3_binary.txt\n",
            "Writing to file binarizedData/HSMMt_chr4_binary.txt\n",
            "Writing to file binarizedData/HSMMt_chr5_binary.txt\n",
            "Writing to file binarizedData/HSMMt_chr6_binary.txt\n",
            "Writing to file binarizedData/HSMMt_chr7_binary.txt\n",
            "Writing to file binarizedData/HSMMt_chrX_binary.txt\n",
            "Writing to file binarizedData/HSMMt_chr8_binary.txt\n",
            "Writing to file binarizedData/HSMMt_chr9_binary.txt\n",
            "Writing to file binarizedData/HSMMt_chr10_binary.txt\n",
            "Writing to file binarizedData/HSMMt_chr11_binary.txt\n",
            "Writing to file binarizedData/HSMMt_chr12_binary.txt\n",
            "Writing to file binarizedData/HSMMt_chr13_binary.txt\n",
            "Writing to file binarizedData/HSMMt_chr14_binary.txt\n",
            "Writing to file binarizedData/HSMMt_chr15_binary.txt\n",
            "Writing to file binarizedData/HSMMt_chr16_binary.txt\n",
            "Writing to file binarizedData/HSMMt_chr17_binary.txt\n",
            "Writing to file binarizedData/HSMMt_chr18_binary.txt\n",
            "Writing to file binarizedData/HSMMt_chr20_binary.txt\n",
            "Writing to file binarizedData/HSMMt_chrY_binary.txt\n",
            "Writing to file binarizedData/HSMMt_chr19_binary.txt\n",
            "Writing to file binarizedData/HSMMt_chr22_binary.txt\n",
            "Writing to file binarizedData/HSMMt_chr21_binary.txt\n",
            "Writing to file binarizedData/HSMMt_chrM_binary.txt\n"
          ]
        }
      ]
    },
    {
      "cell_type": "markdown",
      "source": [
        "Запускаем ChromHMM с опцией LearnModel (см. руководство пользователя), которая автоматически определит параметры N разных эпигенетических типов с наиболее выраженными наборами гистоновых меток и присвоит каждому геномному интервалу определенный эпигенетический тип. Количество разных эпигенетических типов (или состояний) выбираете сами (например 10 штук).\n",
        "Не забудьте, что мы работаем с версией референсного генома человека hg19\n",
        "Для 11 меток программа работает около 10 минут\n",
        "\n",
        "В результате выполнения команды LearnModel будет создан набор файлов (в том числе HTML страничка) в папке выдачи, которая была указана при запуске. Скачиваем эту папку себе на копьютер и открываем HTML файл.\n",
        "\n",
        "Дальнейшие инстркции -- см. в описании ДЗ"
      ],
      "metadata": {
        "id": "Yo11TtNG8SXU"
      }
    },
    {
      "cell_type": "code",
      "source": [
        "!java -mx4000M -jar /content/ChromHMM/ChromHMM.jar LearnModel -b 200 /content/binarizedData/ /content/data 15 hg19"
      ],
      "metadata": {
        "id": "XYA-oavk3LFV"
      },
      "execution_count": null,
      "outputs": []
    },
    {
      "cell_type": "markdown",
      "source": [
        "## Бонус"
      ],
      "metadata": {
        "id": "fUN7EhwG-K-K"
      }
    },
    {
      "cell_type": "code",
      "source": [
        "from google.colab import files\n",
        "import os\n",
        "\n",
        "states = ['Active_Promoter',\n",
        "         'Weak_Promoter',\n",
        "         'Inactive/poised Promoter',\n",
        "         'Strong enhancer',\n",
        "         'Strong enhancer',\n",
        "         'Weak/poised enhancer',\n",
        "         'Weak/poised enhancer',\n",
        "         'Insulator',\n",
        "         'Transcriptional transition',\n",
        "         'Transcriptional elongation',\n",
        "         'Weak transcribed',\n",
        "         'Polycomb-repressed',\n",
        "         'Heterochromatin; low signal',\n",
        "         'Repetitive/Copy Number Variation',\n",
        "         'Repetitive/Copy Number Variation']\n",
        "\n",
        "with open(f'data/HSMMt_15_dense_new.bed', 'r') as bef_f:\n",
        " with open(f'HSMMt_15_dense_new.bed', 'a') as aft_f:\n",
        "   lines = bef_f.readlines()\n",
        "   aft_f.write(lines[0])\n",
        "   for line in lines[1:]:\n",
        "       l = line.split('\\t')\n",
        "       l[3] = l[3] + '_' + states[int(l[3]) - 1]\n",
        "       aft_f.write('\\t'.join(l))"
      ],
      "metadata": {
        "id": "ECRMlcJf-Nak"
      },
      "execution_count": null,
      "outputs": []
    },
    {
      "cell_type": "code",
      "source": [],
      "metadata": {
        "id": "68UWYaIVCsmB"
      },
      "execution_count": null,
      "outputs": []
    }
  ]
}